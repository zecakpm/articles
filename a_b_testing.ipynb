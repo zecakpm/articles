{
  "nbformat": 4,
  "nbformat_minor": 0,
  "metadata": {
    "colab": {
      "provenance": [],
      "toc_visible": true
    },
    "kernelspec": {
      "name": "python3",
      "display_name": "Python 3"
    }
  },
  "cells": [
    {
      "cell_type": "markdown",
      "metadata": {
        "id": "jPyDpDqvZuLo"
      },
      "source": [
        "# **Quick Guide for A/B testing**"
      ]
    },
    {
      "cell_type": "markdown",
      "source": [
        "# Import libraries"
      ],
      "metadata": {
        "id": "mRtsPNEiB1LT"
      }
    },
    {
      "cell_type": "code",
      "source": [
        "import pandas as pd\n",
        "import numpy as np\n",
        "from datetime import datetime, timedelta\n",
        "import random\n",
        "import matplotlib.pyplot as plt\n",
        "import seaborn as sns\n",
        "import scipy.stats as stats\n",
        "import numpy as np"
      ],
      "metadata": {
        "id": "-CV7ECuXAi1x"
      },
      "execution_count": null,
      "outputs": []
    },
    {
      "cell_type": "markdown",
      "source": [
        "# Create a dummy dataset"
      ],
      "metadata": {
        "id": "G-IDPFezB6LE"
      }
    },
    {
      "cell_type": "code",
      "metadata": {
        "id": "MmQC7J5cvkzE",
        "colab": {
          "base_uri": "https://localhost:8080/"
        },
        "outputId": "d4741cb6-fb9e-4c08-897f-fa6bb0b5aad7"
      },
      "source": [
        "# Set random seed for reproducibility\n",
        "np.random.seed(42)\n",
        "random.seed(42)\n",
        "\n",
        "# Parameters\n",
        "num_users = 1000  # Total users in test\n",
        "conversion_rates = {'A': 0.1, 'B': 0.12}  # Assume variant B has a higher conversion rate\n",
        "\n",
        "# Generate user IDs\n",
        "user_ids = np.arange(1, num_users + 1)\n",
        "\n",
        "# Generate variant assignments (randomly assign users to A or B)\n",
        "variants = np.random.choice(['A', 'B'], size=num_users, p=[0.5, 0.5])\n",
        "\n",
        "# Generate timestamps (random times within the last 30 days)\n",
        "start_date = datetime.now() - timedelta(days=30)\n",
        "timestamps = [start_date + timedelta(days=random.uniform(0, 30)) for _ in range(num_users)]\n",
        "\n",
        "# Generate conversions based on predefined conversion rates\n",
        "conversions = [1 if random.random() < conversion_rates[variant] else 0 for variant in variants]\n",
        "\n",
        "# Create DataFrame\n",
        "data = pd.DataFrame({\n",
        "    'user_id': user_ids,\n",
        "    'timestamp': timestamps,\n",
        "    'variant': variants,\n",
        "    'conversion': conversions\n",
        "})\n",
        "\n",
        "# Show sample data\n",
        "print(data.head())"
      ],
      "execution_count": null,
      "outputs": [
        {
          "output_type": "stream",
          "name": "stdout",
          "text": [
            "   user_id                  timestamp variant  conversion\n",
            "0        1 2025-03-22 19:21:11.039686       A           1\n",
            "1        2 2025-03-04 08:58:24.655620       B           0\n",
            "2        3 2025-03-11 20:59:12.771296       B           0\n",
            "3        4 2025-03-10 07:40:39.011365       B           0\n",
            "4        5 2025-03-25 17:13:30.165196       A           0\n"
          ]
        }
      ]
    },
    {
      "cell_type": "markdown",
      "source": [
        "# Check for missing values\n",
        "\n",
        "this is step is necessary when dealing with real data"
      ],
      "metadata": {
        "id": "rGFr2NhrCKql"
      }
    },
    {
      "cell_type": "code",
      "source": [
        "# Get dataset info\n",
        "data.info()\n",
        "\n",
        "# Check for missing values\n",
        "print(\"\\nMissing Values:\\n\", data.isnull().sum())\n",
        "\n",
        "# Check for duplicates\n",
        "print(\"\\nDuplicate Rows:\", data.duplicated().sum())"
      ],
      "metadata": {
        "colab": {
          "base_uri": "https://localhost:8080/"
        },
        "id": "o_Cb6pUaH0gM",
        "outputId": "f0b9014e-6c5f-4495-863b-34301cf5f6a1"
      },
      "execution_count": null,
      "outputs": [
        {
          "output_type": "stream",
          "name": "stdout",
          "text": [
            "<class 'pandas.core.frame.DataFrame'>\n",
            "RangeIndex: 1000 entries, 0 to 999\n",
            "Data columns (total 4 columns):\n",
            " #   Column      Non-Null Count  Dtype         \n",
            "---  ------      --------------  -----         \n",
            " 0   user_id     1000 non-null   int64         \n",
            " 1   timestamp   1000 non-null   datetime64[ns]\n",
            " 2   variant     1000 non-null   object        \n",
            " 3   conversion  1000 non-null   int64         \n",
            "dtypes: datetime64[ns](1), int64(2), object(1)\n",
            "memory usage: 31.4+ KB\n",
            "\n",
            "Missing Values:\n",
            " user_id       0\n",
            "timestamp     0\n",
            "variant       0\n",
            "conversion    0\n",
            "dtype: int64\n",
            "\n",
            "Duplicate Rows: 0\n"
          ]
        }
      ]
    },
    {
      "cell_type": "markdown",
      "source": [],
      "metadata": {
        "id": "YEqAEtvUH0HT"
      }
    },
    {
      "cell_type": "markdown",
      "source": [
        "# Check total count and coversion rate"
      ],
      "metadata": {
        "id": "ZOgm6L5DCXdi"
      }
    },
    {
      "cell_type": "code",
      "source": [
        "# Count users per variant\n",
        "print(data['variant'].value_counts())\n",
        "\n",
        "# Conversion rates per variant\n",
        "conversion_rates = data.groupby('variant')['conversion'].mean()\n",
        "print(\"\\nConversion Rates:\\n\", conversion_rates)\n"
      ],
      "metadata": {
        "colab": {
          "base_uri": "https://localhost:8080/"
        },
        "id": "7uFZ6wrp-lUw",
        "outputId": "8d485ff8-143c-485b-fe2b-e34aaa7c4fca"
      },
      "execution_count": null,
      "outputs": [
        {
          "output_type": "stream",
          "name": "stdout",
          "text": [
            "           user_id                      timestamp   conversion\n",
            "count  1000.000000                           1000  1000.000000\n",
            "mean    500.500000  2025-03-18 23:51:18.425810688     0.111000\n",
            "min       1.000000     2025-03-03 15:06:09.994634     0.000000\n",
            "25%     250.750000  2025-03-11 12:46:18.608595200     0.000000\n",
            "50%     500.500000  2025-03-19 09:01:19.789806336     0.000000\n",
            "75%     750.250000  2025-03-26 07:21:19.569088768     0.000000\n",
            "max    1000.000000     2025-04-02 14:44:38.890435     1.000000\n",
            "std     288.819436                            NaN     0.314289\n",
            "variant\n",
            "A    503\n",
            "B    497\n",
            "Name: count, dtype: int64\n",
            "\n",
            "Conversion Rates:\n",
            " variant\n",
            "A    0.093439\n",
            "B    0.128773\n",
            "Name: conversion, dtype: float64\n"
          ]
        }
      ]
    },
    {
      "cell_type": "code",
      "source": [
        "# Barplot of conversion rates\n",
        "# Ensure conversion_rates is a Pandas Series\n",
        "conversion_rates = data.groupby('variant')['conversion'].mean()  # This returns a Series\n",
        "\n",
        "# Barplot of conversion rates\n",
        "plt.figure(figsize=(6, 4))\n",
        "ax = sns.barplot(x=conversion_rates.index, y=conversion_rates.values, palette=\"Blues\")\n",
        "\n",
        "# Add labels inside the bars\n",
        "for i, value in enumerate(conversion_rates.values):\n",
        "    plt.text(i, value - 0.01, f\"{value:.2%}\", ha=\"center\", fontsize=12, fontweight=\"bold\", color=\"white\")\n",
        "\n",
        "plt.title(\"A/B Test Conversion Rates\", fontsize=14)\n",
        "plt.xlabel(\"Variant\", fontsize=12)\n",
        "plt.ylabel(\"Conversion Rate\", fontsize=12)\n",
        "\n",
        "plt.show()\n"
      ],
      "metadata": {
        "colab": {
          "base_uri": "https://localhost:8080/",
          "height": 502
        },
        "id": "-CFPiCx0-1IW",
        "outputId": "424f8451-79fc-4f91-a8ba-7e3e04a9b2fa"
      },
      "execution_count": null,
      "outputs": [
        {
          "output_type": "stream",
          "name": "stderr",
          "text": [
            "<ipython-input-17-d49462ad98b0>:7: FutureWarning: \n",
            "\n",
            "Passing `palette` without assigning `hue` is deprecated and will be removed in v0.14.0. Assign the `x` variable to `hue` and set `legend=False` for the same effect.\n",
            "\n",
            "  ax = sns.barplot(x=conversion_rates.index, y=conversion_rates.values, palette=\"Blues\")\n"
          ]
        },
        {
          "output_type": "display_data",
          "data": {
            "text/plain": [
              "<Figure size 600x400 with 1 Axes>"
            ],
            "image/png": "[encoded data removed]"
          },
          "metadata": {}
        }
      ]
    },
    {
      "cell_type": "markdown",
      "source": [
        "# Applying statistical test"
      ],
      "metadata": {
        "id": "PxhdcMBNDeP_"
      }
    },
    {
      "cell_type": "code",
      "source": [
        "# Get conversion counts per variant\n",
        "conversions_A = data[data['variant'] == 'A']['conversion'].values # sequence of 0 and 1\n",
        "conversions_B = data[data['variant'] == 'B']['conversion'].values\n",
        "\n",
        "# Perform t-test\n",
        "t_stat, p_value = stats.ttest_ind(conversions_A, conversions_B, equal_var=False) #Welch’s t-test, does NOT assume equal variance (more robust)\n",
        "print(f\"T-test: t-stat={t_stat}, p-value={p_value}\")\n",
        "\n",
        "if p_value < 0.05:\n",
        "    print(\"Statistically significant difference!\")\n",
        "else:\n",
        "    print(\"No significant difference.\")"
      ],
      "metadata": {
        "colab": {
          "base_uri": "https://localhost:8080/"
        },
        "id": "Fn0j-Ijr_Jvj",
        "outputId": "5e5a6e57-9119-4da8-92c2-db7820e46fcf"
      },
      "execution_count": null,
      "outputs": [
        {
          "output_type": "stream",
          "name": "stdout",
          "text": [
            "T-test: t-stat=-1.7779630374254174, p-value=0.07572133345684035\n",
            "No significant difference.\n"
          ]
        }
      ]
    }
  ]
}